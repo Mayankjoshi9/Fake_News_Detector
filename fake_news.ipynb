{
 "cells": [
  {
   "cell_type": "code",
   "execution_count": 38,
   "metadata": {},
   "outputs": [],
   "source": [
    "import pandas as pd\n",
    "import numpy as np\n",
    "import re\n",
    "import nltk\n",
    "import swifter\n",
    "from nltk.corpus import stopwords\n",
    "from nltk.stem.porter import PorterStemmer\n",
    "from sklearn.linear_model import SGDClassifier\n",
    "from sklearn.feature_extraction.text import TfidfVectorizer\n",
    "from sklearn.model_selection import train_test_split\n",
    "# from sklearn.linear_model import LogisticRegression\n",
    "from sklearn.metrics import accuracy_score,classification_report\n",
    "# from sklearn.naive_bayes import MultinomialNB\n",
    "\n",
    "# import textwrap\n",
    "import joblib"
   ]
  },
  {
   "cell_type": "code",
   "execution_count": 39,
   "metadata": {},
   "outputs": [],
   "source": [
    "news_df=pd.read_csv(\"./News_dataset/news_data.csv\")"
   ]
  },
  {
   "cell_type": "code",
   "execution_count": 40,
   "metadata": {},
   "outputs": [
    {
     "data": {
      "text/html": [
       "<div>\n",
       "<style scoped>\n",
       "    .dataframe tbody tr th:only-of-type {\n",
       "        vertical-align: middle;\n",
       "    }\n",
       "\n",
       "    .dataframe tbody tr th {\n",
       "        vertical-align: top;\n",
       "    }\n",
       "\n",
       "    .dataframe thead th {\n",
       "        text-align: right;\n",
       "    }\n",
       "</style>\n",
       "<table border=\"1\" class=\"dataframe\">\n",
       "  <thead>\n",
       "    <tr style=\"text-align: right;\">\n",
       "      <th></th>\n",
       "      <th>title</th>\n",
       "      <th>text</th>\n",
       "      <th>subject</th>\n",
       "      <th>date</th>\n",
       "      <th>label</th>\n",
       "      <th>content</th>\n",
       "    </tr>\n",
       "  </thead>\n",
       "  <tbody>\n",
       "    <tr>\n",
       "      <th>0</th>\n",
       "      <td>BREAKING: GOP Chairman Grassley Has Had Enoug...</td>\n",
       "      <td>Donald Trump s White House is in chaos, and th...</td>\n",
       "      <td>News</td>\n",
       "      <td>July 21, 2017</td>\n",
       "      <td>1</td>\n",
       "      <td>BREAKING: GOP Chairman Grassley Has Had Enoug...</td>\n",
       "    </tr>\n",
       "    <tr>\n",
       "      <th>1</th>\n",
       "      <td>Failed GOP Candidates Remembered In Hilarious...</td>\n",
       "      <td>Now that Donald Trump is the presumptive GOP n...</td>\n",
       "      <td>News</td>\n",
       "      <td>May 7, 2016</td>\n",
       "      <td>1</td>\n",
       "      <td>Failed GOP Candidates Remembered In Hilarious...</td>\n",
       "    </tr>\n",
       "    <tr>\n",
       "      <th>2</th>\n",
       "      <td>Mike Pence’s New DC Neighbors Are HILARIOUSLY...</td>\n",
       "      <td>Mike Pence is a huge homophobe. He supports ex...</td>\n",
       "      <td>News</td>\n",
       "      <td>December 3, 2016</td>\n",
       "      <td>1</td>\n",
       "      <td>Mike Pence’s New DC Neighbors Are HILARIOUSLY...</td>\n",
       "    </tr>\n",
       "    <tr>\n",
       "      <th>3</th>\n",
       "      <td>California AG pledges to defend birth control ...</td>\n",
       "      <td>SAN FRANCISCO (Reuters) - California Attorney ...</td>\n",
       "      <td>politicsNews</td>\n",
       "      <td>October 6, 2017</td>\n",
       "      <td>0</td>\n",
       "      <td>California AG pledges to defend birth control ...</td>\n",
       "    </tr>\n",
       "    <tr>\n",
       "      <th>4</th>\n",
       "      <td>AZ RANCHERS Living On US-Mexico Border Destroy...</td>\n",
       "      <td>Twisted reasoning is all that comes from Pelos...</td>\n",
       "      <td>politics</td>\n",
       "      <td>Apr 25, 2017</td>\n",
       "      <td>1</td>\n",
       "      <td>AZ RANCHERS Living On US-Mexico Border Destroy...</td>\n",
       "    </tr>\n",
       "  </tbody>\n",
       "</table>\n",
       "</div>"
      ],
      "text/plain": [
       "                                               title   \n",
       "0   BREAKING: GOP Chairman Grassley Has Had Enoug...  \\\n",
       "1   Failed GOP Candidates Remembered In Hilarious...   \n",
       "2   Mike Pence’s New DC Neighbors Are HILARIOUSLY...   \n",
       "3  California AG pledges to defend birth control ...   \n",
       "4  AZ RANCHERS Living On US-Mexico Border Destroy...   \n",
       "\n",
       "                                                text       subject   \n",
       "0  Donald Trump s White House is in chaos, and th...          News  \\\n",
       "1  Now that Donald Trump is the presumptive GOP n...          News   \n",
       "2  Mike Pence is a huge homophobe. He supports ex...          News   \n",
       "3  SAN FRANCISCO (Reuters) - California Attorney ...  politicsNews   \n",
       "4  Twisted reasoning is all that comes from Pelos...      politics   \n",
       "\n",
       "               date  label                                            content  \n",
       "0     July 21, 2017      1   BREAKING: GOP Chairman Grassley Has Had Enoug...  \n",
       "1       May 7, 2016      1   Failed GOP Candidates Remembered In Hilarious...  \n",
       "2  December 3, 2016      1   Mike Pence’s New DC Neighbors Are HILARIOUSLY...  \n",
       "3  October 6, 2017       0  California AG pledges to defend birth control ...  \n",
       "4      Apr 25, 2017      1  AZ RANCHERS Living On US-Mexico Border Destroy...  "
      ]
     },
     "execution_count": 40,
     "metadata": {},
     "output_type": "execute_result"
    }
   ],
   "source": [
    "news_df.head()"
   ]
  },
  {
   "cell_type": "code",
   "execution_count": 41,
   "metadata": {},
   "outputs": [
    {
     "data": {
      "text/plain": [
       "(44898, 6)"
      ]
     },
     "execution_count": 41,
     "metadata": {},
     "output_type": "execute_result"
    }
   ],
   "source": [
    "news_df.shape"
   ]
  },
  {
   "cell_type": "code",
   "execution_count": 42,
   "metadata": {},
   "outputs": [
    {
     "data": {
      "text/plain": [
       "title      0\n",
       "text       0\n",
       "subject    0\n",
       "date       0\n",
       "label      0\n",
       "content    0\n",
       "dtype: int64"
      ]
     },
     "execution_count": 42,
     "metadata": {},
     "output_type": "execute_result"
    }
   ],
   "source": [
    "news_df.isna().sum()"
   ]
  },
  {
   "cell_type": "markdown",
   "metadata": {},
   "source": [
    "### filling null with empty string"
   ]
  },
  {
   "cell_type": "code",
   "execution_count": 43,
   "metadata": {},
   "outputs": [],
   "source": [
    "news_df = news_df.fillna(' ')"
   ]
  },
  {
   "cell_type": "code",
   "execution_count": 44,
   "metadata": {},
   "outputs": [
    {
     "data": {
      "text/plain": [
       "title      0\n",
       "text       0\n",
       "subject    0\n",
       "date       0\n",
       "label      0\n",
       "content    0\n",
       "dtype: int64"
      ]
     },
     "execution_count": 44,
     "metadata": {},
     "output_type": "execute_result"
    }
   ],
   "source": [
    "news_df.isna().sum()"
   ]
  },
  {
   "cell_type": "code",
   "execution_count": 45,
   "metadata": {},
   "outputs": [],
   "source": [
    "ps = PorterStemmer()\n",
    "stop_words = set(stopwords.words('english'))  # Load stopwords once\n",
    "regex = re.compile('[^a-zA-Z]')               # Compile regex once\n",
    "\n",
    "def stemming(content):\n",
    "    stemmed_content = regex.sub(' ', content).lower()\n",
    "    stemmed_content = stemmed_content.split()\n",
    "    stemmed_content = [ps.stem(word) for word in stemmed_content if word not in stop_words]\n",
    "    return ' '.join(stemmed_content)"
   ]
  },
  {
   "cell_type": "code",
   "execution_count": 46,
   "metadata": {},
   "outputs": [
    {
     "name": "stderr",
     "output_type": "stream",
     "text": [
      "[nltk_data] Downloading package stopwords to\n",
      "[nltk_data]     C:\\Users\\mayan\\AppData\\Roaming\\nltk_data...\n",
      "[nltk_data]   Package stopwords is already up-to-date!\n"
     ]
    },
    {
     "data": {
      "text/plain": [
       "True"
      ]
     },
     "execution_count": 46,
     "metadata": {},
     "output_type": "execute_result"
    }
   ],
   "source": [
    "\n",
    "nltk.download('stopwords')"
   ]
  },
  {
   "cell_type": "code",
   "execution_count": 47,
   "metadata": {},
   "outputs": [
    {
     "data": {
      "application/vnd.jupyter.widget-view+json": {
       "model_id": "d56f670ab43147ed81a23e99d6ef7704",
       "version_major": 2,
       "version_minor": 0
      },
      "text/plain": [
       "Pandas Apply:   0%|          | 0/44898 [00:00<?, ?it/s]"
      ]
     },
     "metadata": {},
     "output_type": "display_data"
    }
   ],
   "source": [
    "news_df['content'] = news_df['content'].swifter.apply(stemming)"
   ]
  },
  {
   "cell_type": "code",
   "execution_count": 48,
   "metadata": {},
   "outputs": [],
   "source": [
    "X=news_df['content'].values\n",
    "y=news_df['label'].values"
   ]
  },
  {
   "cell_type": "code",
   "execution_count": 49,
   "metadata": {},
   "outputs": [
    {
     "data": {
      "text/plain": [
       "array(['break gop chairman grassley enough demand trump jr testimoni donald trump white hous chao tri cover russia problem mount hour refus acknowledg problem surround fake news hoax howev fact bear thing differ seem crack congression public leadership chuck grassley r iowa head senat judiciari committe fed demand donald trump jr former trump campaign manag paul manafort testifi committe regard infam shadi meet donald trump shadi russian lawyer promis dirt democrat presidenti nomine hillari clinton fact inform due well demand send signal team trump notabl fire special counsel robert mueller circumst despit fact seem seem trump white hous lay groundwork speak speak tweet regard grassley warn also anyon think senat grassley rest senat seriou need look warn alreadi given trump jr manafort either follow order serv subpoena forc compli refus held contempt congress carri seriou jail time even cruel craven creatur within gop sick donald trump corrupt scandal ridden white hous angri stage hostil takeov parti first birther give perman racist label decim effort made pretend republican parti hotb racism turn world upsid nation seem old timer like grassley clearli sick trump bullshit might one could save republ need bit courag featur imag via win mcname getti imag',\n",
       "       'fail gop candid rememb hilari mock eulog video donald trump presumpt gop nomine time rememb candid tri hard beat race white hous forget misstep gaff weird sheer idioci candid jeb bush marco rubio john kasich ted cruz ben carson carli fiorina video make round twitter eulog three fail candid though dead gop might well dead point anyway appropri titl eulog gop peopl make short speech candid past man actual say jeb bush qualifi presid fake tear journalist comedienn francesca fiorentini say dearli belov gather today commemor candid longer us one man speak amus circu rendit chopin funer march rememb jeb way jeb hardli knew ye bad polici find way republican morass inde like jeb polici invis sometim although mani felt would win nomin earli best perform often came debat get fight donald trump virtual everyth sun also bad habit defend brother action iraq memor say relat brother one thing know sure kept us safe move marco rubio fiorentini say call mani thing young charm lil marco last nicknam cours refer trump penchant name call man speak spanish rememb rubio way marco normal boy anoth said involv gang eight immigr bill kill candid fiorentini repli peopl die gang violenc die gang eight violenc maker video save absolut best last cours ben carson dear dr carson one speaker say would gentli rock sleep monoton voic carson especi well known seemingli asleep half time saw eye open wide surpris like surpris voic soft speech slow realli hard stay awak talk imagin give state union address see whole video especi spectacular end carson eulog watch take moment say g bye gop candid http co bl zv aj ajplu may featur imag via screen captur embed video',\n",
       "       'mike penc new dc neighbor hilari troll homophob bigot mike penc huge homophob support ex gay convers therapi oppos hate crime protect lgbtq peopl staunchli marriag equal said believ sex coupl lead societ collaps end folk forc live near vice presid elect near newli rent hous washington dc none happi new neighbor howev instead protest ralli street decid troll instead resid chevi chase neighborhood hang larg rainbow flag home send signal mike penc homophobia welcom neck wood accord local station wjla respect messag show case disagr think said ils heintzen heintzen refer vice presid elect mike penc penc move hous heintzen block stay move vice presid mansion ground naval observatori next year neighbor start hang pride flag vp elect move lgbtq commun critic penc polici regard lgbtq right coupl imag collect rainbow f penc via twitter pride flag send messag mike penc outsid temporari dc home neighbor say come newschannel abc news lgbtq lgbt pic twitter com bfkfj yl tim barber abc timbarb decemb resid nw washington street vp elect penc rent hous send symbol messag resid may hang flag pic twitter com fldysmop suzann kennedi abc suzann novemb flag come accord local peopl great thing let penc know bigotri welcom best attempt display presenc hand like caus anoth meltdown trump undoubtedli accus peopl harass penc bigot view happen hamilton staff either way signal absolut toler bigotri matter hard push hope head explod one even take offic featur imag via chip somodevilla getti imag',\n",
       "       ...,\n",
       "       'atheist sue governor texa display capitol ground convinc freedom religion group atheist get enough attent kid perpetu offend everyth yet anoth case mock nativ scene childish display su texa governor took texa gov greg abbott su atheist group decis remov nativ scene parodi state capitol decemb freedom religion foundat announc feder lawsuit abbott western district texa austin divis thursday organ alleg governor violat free speech equal protect due process right order remov exhibit commemor birth bill right imag question approv texa state preserv board includ statu liberti found father bill right manger place state capitol dec remain three day abbott act mock capitol nativ scene offens demand remov satir nativ scene capitol abbott tweet dec governor also pen letter state preserv board juvenil parodi violat preserv board regul remov immedi biblic scene newli born jesu christ lie manger bethlehem lie heart christian faith subject imag held sacr million texan foundat tasteless sarcasm noth promot moral gener welfar abbott said contrari foundat spite messag intent design belittl offend undermin rather promot public purpos display promot bill right might otherwis read wnd',\n",
       "       'republican tax plan would deal financi hit u univers washington reuter republican tax plan unveil thursday stir anger u univers said propos tax endow privat institut repeal deduct student loan interest payment would hurt institut student bill republican led hous repres would increas student cost attend colleg billion accord analysi american council educ ace lead lobbi group higher educ plan would discourag particip postsecondari educ make colleg expens enrol undermin financi stabil public privat two year four year colleg univers ace presid ted mitchel said hous speaker paul ryan power republican congress told news confer tax plan would allow typic famili four save around year could go toward colleg save plan would establish percent tax earn larg privat school endow would also scrap deduct interest paid student loan congression analyst said would increas feder revenu billion year smaller tuition relat tax break also end presid donald trump fellow republican lock horn colleg univers say forc liber valu student privat colleg endow total billion accord nation associ colleg univers busi offic nacubo tax would appli endow least asset student enrol sinc univers must balanc budget may rais tuition cut program financi aid order cover new tax said nacubo feder affair director liz clark princeton univers use earn billion endow provid aid percent student pay academ program facil research said bob durke vice presid secretari new jersey school famili incom pay tuition said incom less also forgo pay room board end interest deduct would hurt peopl abil afford educ said justin draeger presid nation associ student financi aid administr us one thing talk whether fund effect use govern money help peopl afford colleg said anoth use offset unclear tax overhaul',\n",
       "       'u n refuge commission say australia must stop unfold humanitarian crisi png sydney reuter u n high commission refuge said australia must take immedi action stop unfold humanitarian emerg see asylum seeker barricad insid abandon detent center papua new guinea without food run water detaine manu island centr two day defi attempt australia papua new guinea close camp say fear violent repris local commun move transit center food exhaust mani men begin show ill effect two day without adequ nourish environ u n refuge commission said australia must urgent resolv papua new guinea australia remain respons well move papua new guinea adequ long term solut outsid countri found u n bodi said statement thursday manu center key part australia controversi sovereign border immigr polici refus allow asylum seeker arriv boat reach shore detain camp papua new guinea nauru south pacif unit nation right group year cite human right abus among detaine center papua new guinea high court rule last year manu center first open illeg camp schedul close oct secur staff withdrew men camp water power util camp cut wednesday desper sourc altern suppli dozen men work night use wooden pole dig deep hole find water use torch light task photo suppli reuter show without run water advoc fear rapid declin sanitari condit camp behrouz boochani kurdish journalist iran said men hunger strike call red cross medicin san frontier msf provid help msf said statement reuter deepli concern sadden australia papua new guinea respons care detaine australia said men move new transit center pledg million million worth food secur next month u n refuge commission said one new facil still makeshift camp compos ship contain contain surround mud electr water connect yet said reloc men design temporari measur allow unit state time complet vet refuge part refuge swap deal accept unit state option resettl papua new guinea none wish stay anoth develop countri lawyer detaine file suit papua new guinea suprem court prevent manu camp closur servic return rule expect later thursday although delay two day alreadi detaine come war torn countri afghanistan iran myanmar pakistan sri lanka syria'],\n",
       "      dtype=object)"
      ]
     },
     "execution_count": 49,
     "metadata": {},
     "output_type": "execute_result"
    }
   ],
   "source": [
    "X\n",
    "# checking if X got expected values"
   ]
  },
  {
   "cell_type": "code",
   "execution_count": 50,
   "metadata": {},
   "outputs": [],
   "source": [
    "vector= TfidfVectorizer()\n",
    "vector.fit(X)\n",
    "X=vector.transform(X)"
   ]
  },
  {
   "cell_type": "code",
   "execution_count": 51,
   "metadata": {},
   "outputs": [],
   "source": [
    "X_train, X_test, y_train, y_test = train_test_split( X, y, test_size=0.4, random_state=42)"
   ]
  },
  {
   "cell_type": "code",
   "execution_count": 52,
   "metadata": {},
   "outputs": [
    {
     "data": {
      "text/plain": [
       "(26938, 89868)"
      ]
     },
     "execution_count": 52,
     "metadata": {},
     "output_type": "execute_result"
    }
   ],
   "source": [
    "X_train.shape"
   ]
  },
  {
   "cell_type": "markdown",
   "metadata": {},
   "source": [
    "### SGDClassifier Algo"
   ]
  },
  {
   "cell_type": "code",
   "execution_count": 53,
   "metadata": {},
   "outputs": [],
   "source": [
    "model = SGDClassifier(loss='log', max_iter=1000)\n"
   ]
  },
  {
   "cell_type": "code",
   "execution_count": 54,
   "metadata": {},
   "outputs": [
    {
     "data": {
      "text/html": [
       "<style>#sk-container-id-2 {color: black;background-color: white;}#sk-container-id-2 pre{padding: 0;}#sk-container-id-2 div.sk-toggleable {background-color: white;}#sk-container-id-2 label.sk-toggleable__label {cursor: pointer;display: block;width: 100%;margin-bottom: 0;padding: 0.3em;box-sizing: border-box;text-align: center;}#sk-container-id-2 label.sk-toggleable__label-arrow:before {content: \"▸\";float: left;margin-right: 0.25em;color: #696969;}#sk-container-id-2 label.sk-toggleable__label-arrow:hover:before {color: black;}#sk-container-id-2 div.sk-estimator:hover label.sk-toggleable__label-arrow:before {color: black;}#sk-container-id-2 div.sk-toggleable__content {max-height: 0;max-width: 0;overflow: hidden;text-align: left;background-color: #f0f8ff;}#sk-container-id-2 div.sk-toggleable__content pre {margin: 0.2em;color: black;border-radius: 0.25em;background-color: #f0f8ff;}#sk-container-id-2 input.sk-toggleable__control:checked~div.sk-toggleable__content {max-height: 200px;max-width: 100%;overflow: auto;}#sk-container-id-2 input.sk-toggleable__control:checked~label.sk-toggleable__label-arrow:before {content: \"▾\";}#sk-container-id-2 div.sk-estimator input.sk-toggleable__control:checked~label.sk-toggleable__label {background-color: #d4ebff;}#sk-container-id-2 div.sk-label input.sk-toggleable__control:checked~label.sk-toggleable__label {background-color: #d4ebff;}#sk-container-id-2 input.sk-hidden--visually {border: 0;clip: rect(1px 1px 1px 1px);clip: rect(1px, 1px, 1px, 1px);height: 1px;margin: -1px;overflow: hidden;padding: 0;position: absolute;width: 1px;}#sk-container-id-2 div.sk-estimator {font-family: monospace;background-color: #f0f8ff;border: 1px dotted black;border-radius: 0.25em;box-sizing: border-box;margin-bottom: 0.5em;}#sk-container-id-2 div.sk-estimator:hover {background-color: #d4ebff;}#sk-container-id-2 div.sk-parallel-item::after {content: \"\";width: 100%;border-bottom: 1px solid gray;flex-grow: 1;}#sk-container-id-2 div.sk-label:hover label.sk-toggleable__label {background-color: #d4ebff;}#sk-container-id-2 div.sk-serial::before {content: \"\";position: absolute;border-left: 1px solid gray;box-sizing: border-box;top: 0;bottom: 0;left: 50%;z-index: 0;}#sk-container-id-2 div.sk-serial {display: flex;flex-direction: column;align-items: center;background-color: white;padding-right: 0.2em;padding-left: 0.2em;position: relative;}#sk-container-id-2 div.sk-item {position: relative;z-index: 1;}#sk-container-id-2 div.sk-parallel {display: flex;align-items: stretch;justify-content: center;background-color: white;position: relative;}#sk-container-id-2 div.sk-item::before, #sk-container-id-2 div.sk-parallel-item::before {content: \"\";position: absolute;border-left: 1px solid gray;box-sizing: border-box;top: 0;bottom: 0;left: 50%;z-index: -1;}#sk-container-id-2 div.sk-parallel-item {display: flex;flex-direction: column;z-index: 1;position: relative;background-color: white;}#sk-container-id-2 div.sk-parallel-item:first-child::after {align-self: flex-end;width: 50%;}#sk-container-id-2 div.sk-parallel-item:last-child::after {align-self: flex-start;width: 50%;}#sk-container-id-2 div.sk-parallel-item:only-child::after {width: 0;}#sk-container-id-2 div.sk-dashed-wrapped {border: 1px dashed gray;margin: 0 0.4em 0.5em 0.4em;box-sizing: border-box;padding-bottom: 0.4em;background-color: white;}#sk-container-id-2 div.sk-label label {font-family: monospace;font-weight: bold;display: inline-block;line-height: 1.2em;}#sk-container-id-2 div.sk-label-container {text-align: center;}#sk-container-id-2 div.sk-container {/* jupyter's `normalize.less` sets `[hidden] { display: none; }` but bootstrap.min.css set `[hidden] { display: none !important; }` so we also need the `!important` here to be able to override the default hidden behavior on the sphinx rendered scikit-learn.org. See: https://github.com/scikit-learn/scikit-learn/issues/21755 */display: inline-block !important;position: relative;}#sk-container-id-2 div.sk-text-repr-fallback {display: none;}</style><div id=\"sk-container-id-2\" class=\"sk-top-container\"><div class=\"sk-text-repr-fallback\"><pre>SGDClassifier(loss=&#x27;log&#x27;)</pre><b>In a Jupyter environment, please rerun this cell to show the HTML representation or trust the notebook. <br />On GitHub, the HTML representation is unable to render, please try loading this page with nbviewer.org.</b></div><div class=\"sk-container\" hidden><div class=\"sk-item\"><div class=\"sk-estimator sk-toggleable\"><input class=\"sk-toggleable__control sk-hidden--visually\" id=\"sk-estimator-id-2\" type=\"checkbox\" checked><label for=\"sk-estimator-id-2\" class=\"sk-toggleable__label sk-toggleable__label-arrow\">SGDClassifier</label><div class=\"sk-toggleable__content\"><pre>SGDClassifier(loss=&#x27;log&#x27;)</pre></div></div></div></div></div>"
      ],
      "text/plain": [
       "SGDClassifier(loss='log')"
      ]
     },
     "execution_count": 54,
     "metadata": {},
     "output_type": "execute_result"
    }
   ],
   "source": [
    "model.partial_fit(X_train, y_train, classes=[0, 1]) "
   ]
  },
  {
   "cell_type": "code",
   "execution_count": 55,
   "metadata": {},
   "outputs": [
    {
     "name": "stdout",
     "output_type": "stream",
     "text": [
      "Train accuracy: 0.9845200089093474\n"
     ]
    }
   ],
   "source": [
    "train_y_pred = model.predict(X_train)\n",
    "print(\"Train accuracy:\", accuracy_score(train_y_pred, y_train))"
   ]
  },
  {
   "cell_type": "code",
   "execution_count": 56,
   "metadata": {},
   "outputs": [
    {
     "name": "stdout",
     "output_type": "stream",
     "text": [
      "Test accuracy: 0.9791202672605791\n"
     ]
    }
   ],
   "source": [
    "test_y_pred = model.predict(X_test)\n",
    "print(\"Test accuracy:\", accuracy_score(test_y_pred, y_test))"
   ]
  },
  {
   "cell_type": "markdown",
   "metadata": {},
   "source": [
    "### Logistic Regression"
   ]
  },
  {
   "cell_type": "code",
   "execution_count": 57,
   "metadata": {},
   "outputs": [],
   "source": [
    "# model=LogisticRegression()\n",
    "# model.fit(X_train,y_train)"
   ]
  },
  {
   "cell_type": "code",
   "execution_count": 58,
   "metadata": {},
   "outputs": [],
   "source": [
    "# train_y_pred=model.predict(X_train)\n",
    "# print(\"train accuracy : \",accuracy_score(train_y_pred,y_train))"
   ]
  },
  {
   "cell_type": "code",
   "execution_count": 59,
   "metadata": {},
   "outputs": [],
   "source": [
    "# test_y_pred=model.predict(X_test)\n",
    "# print(\"test accuracy : \",accuracy_score(test_y_pred,y_test))"
   ]
  },
  {
   "cell_type": "code",
   "execution_count": 60,
   "metadata": {},
   "outputs": [],
   "source": [
    "# y_proba = model.predict_proba(X_test)[:]\n",
    "# y_proba \n"
   ]
  },
  {
   "cell_type": "markdown",
   "metadata": {},
   "source": [
    "### Naive Bayes Classifier"
   ]
  },
  {
   "cell_type": "code",
   "execution_count": 61,
   "metadata": {},
   "outputs": [],
   "source": [
    "# model2=MultinomialNB()\n",
    "# model2.fit(X_train,y_train)"
   ]
  },
  {
   "cell_type": "code",
   "execution_count": 62,
   "metadata": {},
   "outputs": [],
   "source": [
    "# y_pred=model2.predict(X_test)"
   ]
  },
  {
   "cell_type": "code",
   "execution_count": 63,
   "metadata": {},
   "outputs": [],
   "source": [
    "# print(\"naive bayes accuracy : \",accuracy_score(y_test,y_pred))\n"
   ]
  },
  {
   "cell_type": "code",
   "execution_count": 64,
   "metadata": {},
   "outputs": [],
   "source": [
    "# classification_report(y_test, y_pred)"
   ]
  },
  {
   "cell_type": "code",
   "execution_count": 65,
   "metadata": {},
   "outputs": [
    {
     "name": "stdout",
     "output_type": "stream",
     "text": [
      "real news\n"
     ]
    }
   ],
   "source": [
    "input_data=X_test[10]\n",
    "prediction=model.predict(input_data)\n",
    "if prediction[0]==1:\n",
    "    print(\"fake news\")\n",
    "else :\n",
    "    print('real news')"
   ]
  },
  {
   "cell_type": "code",
   "execution_count": 66,
   "metadata": {},
   "outputs": [
    {
     "data": {
      "text/plain": [
       "['model/fake_news_model.pkl']"
      ]
     },
     "execution_count": 66,
     "metadata": {},
     "output_type": "execute_result"
    }
   ],
   "source": [
    "joblib.dump(model,'model/fake_news_model.pkl')"
   ]
  },
  {
   "cell_type": "code",
   "execution_count": 67,
   "metadata": {},
   "outputs": [
    {
     "name": "stdout",
     "output_type": "stream",
     "text": [
      "model saved\n"
     ]
    }
   ],
   "source": [
    "joblib.dump(vector,'model/tfid_vectorizer.pkl')\n",
    "print('model saved')"
   ]
  },
  {
   "cell_type": "code",
   "execution_count": null,
   "metadata": {},
   "outputs": [],
   "source": []
  },
  {
   "cell_type": "code",
   "execution_count": null,
   "metadata": {},
   "outputs": [],
   "source": []
  }
 ],
 "metadata": {
  "kernelspec": {
   "display_name": "Python 3",
   "language": "python",
   "name": "python3"
  },
  "language_info": {
   "codemirror_mode": {
    "name": "ipython",
    "version": 3
   },
   "file_extension": ".py",
   "mimetype": "text/x-python",
   "name": "python",
   "nbconvert_exporter": "python",
   "pygments_lexer": "ipython3",
   "version": "3.11.1"
  }
 },
 "nbformat": 4,
 "nbformat_minor": 2
}
